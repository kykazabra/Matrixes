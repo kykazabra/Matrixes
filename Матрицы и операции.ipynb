{
 "cells": [
  {
   "cell_type": "code",
   "execution_count": 31,
   "id": "96b4390e",
   "metadata": {},
   "outputs": [],
   "source": [
    "import numpy as np\n",
    "    \n",
    "\n",
    "class Matrix(object):\n",
    "    '''\n",
    "    Класс, представляющий собой матрицу и многие методы к ней\n",
    "    '''\n",
    "    \n",
    "    def __init__(self, matr):\n",
    "        types = (np.ndarray, list, tuple)\n",
    "        \n",
    "        if type(matr) not in types:\n",
    "            raise TypeError('Не могу обработать такой тип')\n",
    "            \n",
    "        if type(matr[0]) not in types:\n",
    "            raise ValueError('Объект не двумерный')\n",
    "        \n",
    "        if type(matr[0][0]) in types:\n",
    "            raise ValueError('Слишком много измерений')\n",
    "        \n",
    "        a = len(matr[0])\n",
    "        for row in matr:\n",
    "            if type(row) not in types:\n",
    "                raise ValueError('Матрица не целостная')\n",
    "            \n",
    "            if len(row) != a:\n",
    "                raise ValueError('Объект не прямоугольной формы')\n",
    "            a = len(row)\n",
    "            \n",
    "            for item in row:\n",
    "                if type(item) in types:\n",
    "                    raise ValueError('Где-то лишнее измерение')\n",
    "            \n",
    "        self.matrix = np.array(matr, dtype='float')\n",
    "        \n",
    "    def add_row(self, row):\n",
    "        # Добавление строки в матрицу\n",
    "        if len(row) != self.matrix.shape[1]:\n",
    "            raise TypeError('Длинна строки не совпадает с длинной матрицы!')\n",
    "            \n",
    "        self.matrix = np.vstack([self.matrix, row])\n",
    "        \n",
    "        return Matrix(self.matrix)\n",
    "        \n",
    "    def add_column(self, column):\n",
    "        # Добавление столбца в матрицу\n",
    "        if len(column) != self.matrix.shape[0]:\n",
    "            raise TypeError('Высота столбца не совпадает с высотой матрицы!')\n",
    "            \n",
    "        self.matrix = np.hstack([self.matrix, np.reshape(column, (len(column), 1))])\n",
    "        \n",
    "        return Matrix(self.matrix)\n",
    "    \n",
    "    @property\n",
    "    def shape(self):\n",
    "        # Функция для получения формы матрицы\n",
    "        return self.matrix.shape\n",
    "    \n",
    "    def __matmul__(self, other):\n",
    "        # Математическое умножение матриц\n",
    "        if self.matrix.shape[0] != other.matrix.shape[1]:\n",
    "            raise ValueError('Высота первой матрицы не совпадает с шириной второй!')\n",
    "        \n",
    "        new_M = np.zeros((self.matrix.shape[0], other.matrix.shape[1]))\n",
    "        for i in range(self.matrix.shape[0]):\n",
    "            for j in range(other.matrix.shape[1]):\n",
    "                new_M[i ,j] = sum(self.matrix[i, :] * other.matrix[:, j])\n",
    "                \n",
    "        return Matrix(new_M)\n",
    "    \n",
    "    def __mul__(self, other):\n",
    "        # Умножение матрицы на число или методом Адамара\n",
    "        if type(other) == Matrix:\n",
    "            return Matrix(self.matrix * other.matrix) \n",
    "        else:\n",
    "            return Matrix(self.matrix * other)\n",
    "    \n",
    "    def __add__(self, other):\n",
    "        # Сложение матриц\n",
    "        if self.matrix.shape != other.matrix.shape:\n",
    "            raise TypeeError('Матрицы разной размерности!')\n",
    "        new_M = np.zeros(self.matrix.shape)\n",
    "        \n",
    "        for i in range(self.matrix.shape[0]):\n",
    "            for j in range(self.matrix.shape[1]):\n",
    "                new_M[i, j] = self.matrix[i, j] + other.matrix[i, j]\n",
    "        \n",
    "        return Matrix(new_M)\n",
    "        \n",
    "    def __sub__(self, other):\n",
    "        # Вычетание матриц\n",
    "        if self.matrix.shape != other.matrix.shape:\n",
    "            raise TypeeError('Матрицы разной размерности!')\n",
    "        new_M = np.zeros(self.matrix.shape)\n",
    "        \n",
    "        for i in range(self.matrix.shape[0]):\n",
    "            for j in range(self.matrix.shape[1]):\n",
    "                new_M[i, j] = self.matrix[i, j] - other.matrix[i, j]\n",
    "        \n",
    "        return Matrix(new_M)\n",
    "    \n",
    "    @property\n",
    "    def T(self):\n",
    "        # Транспонирование матрицы\n",
    "        TM = np.zeros(self.matrix.shape[::-1])\n",
    "        for i in range(len(self.matrix)):\n",
    "            for j in range(len(self.matrix[0])):\n",
    "                TM[j, i] = self.matrix[i, j]\n",
    "                \n",
    "        return Matrix(TM)\n",
    "    \n",
    "    @property\n",
    "    def trace(self):\n",
    "        # След матрицы\n",
    "        return sum(self.m_diag)\n",
    "    \n",
    "    def kron(self, other):\n",
    "        # Умножение матриц методом Кронекера\n",
    "        rows = []\n",
    "        for i in range(len(self.matrix)):\n",
    "            row = []\n",
    "            for j in range(len(self.matrix[0])): \n",
    "                row.append(other.matrix * self.matrix[i, j]) \n",
    "            rows.append(row)\n",
    "        \n",
    "        n_rows = []\n",
    "        for row in rows:\n",
    "            n_row = row[0]\n",
    "            for item in row[1:]:\n",
    "                n_row = np.hstack([n_row, item])\n",
    "            n_rows.append(n_row)\n",
    "            \n",
    "        new_M = n_rows[0]\n",
    "        for row in n_rows[1:]:\n",
    "            new_M = np.vstack([new_M, row])        \n",
    "        \n",
    "        return Matrix(new_M)\n",
    "    \n",
    "    @property\n",
    "    def m_diag(self):\n",
    "        # Получение главной диагонали матрицы\n",
    "        tr = []\n",
    "        for i in range(min(self.matrix.shape)):\n",
    "            tr.append(self.matrix[i, i])\n",
    "        return tr\n",
    "    \n",
    "    def __pow__(self, other):\n",
    "        # Возведение матрицы в степень\n",
    "        if other < 0:\n",
    "            raise ValueError('Степень должна быть неотрицательной!')\n",
    "        \n",
    "        if other == 0:\n",
    "            return Matrix(np.diag(np.ones(min(self.shape))))\n",
    "        \n",
    "        new_M = Matrix(self.matrix)\n",
    "        for i in range(other - 1):\n",
    "            new_M = new_M @ Matrix(self.matrix)\n",
    "            \n",
    "        return new_M\n",
    "    \n",
    "    @property\n",
    "    def inv(self):\n",
    "        # Обратная матрица\n",
    "        if self.det == 0:\n",
    "            raise ValueError('Определитель не должен быть равен нулю!')\n",
    "            \n",
    "        return Matrix(np.linalg.inv(self.matrix))\n",
    "    \n",
    "        # Функция добавлена для полноты функционала, реализована через numpy\n",
    "        \n",
    "    @property\n",
    "    def det(self):\n",
    "        # Определитель матрицы \n",
    "        if self.matrix.shape[0] != self.matrix.shape[1]:\n",
    "            raise TypeError('Матрица должна быть квадратной!')\n",
    "            \n",
    "        return np.linalg.det(self.matrix)\n",
    "    \n",
    "        # Функция добавлена для полноты функционала, реализована через numpy\n",
    "        \n",
    "    def __repr__(self):\n",
    "        # Функция, отвечающая за вывод данных о матрице \n",
    "        return str(self.matrix)"
   ]
  },
  {
   "cell_type": "code",
   "execution_count": 14,
   "id": "0f8ed4b0",
   "metadata": {},
   "outputs": [
    {
     "data": {
      "text/plain": [
       "([[1. 2.]\n",
       "  [3. 4.]],\n",
       " __main__.Matrix)"
      ]
     },
     "execution_count": 14,
     "metadata": {},
     "output_type": "execute_result"
    }
   ],
   "source": [
    "# Пример создания матрицы\n",
    "\n",
    "a = Matrix([[1, 2], [3, 4]])\n",
    "a, type(a)"
   ]
  },
  {
   "cell_type": "code",
   "execution_count": 15,
   "id": "9e8fe9cd",
   "metadata": {},
   "outputs": [
    {
     "data": {
      "text/plain": [
       "[[ 8.  5.]\n",
       " [20. 13.]]"
      ]
     },
     "execution_count": 15,
     "metadata": {},
     "output_type": "execute_result"
    }
   ],
   "source": [
    "# Пример умножения матриц\n",
    "\n",
    "a = Matrix([[1, 2], [3, 4]])\n",
    "b = Matrix([[4, 3], [2, 1]])\n",
    "a @ b"
   ]
  },
  {
   "cell_type": "code",
   "execution_count": 16,
   "id": "e12a1558",
   "metadata": {},
   "outputs": [
    {
     "data": {
      "text/plain": [
       "[[4. 6.]\n",
       " [6. 4.]]"
      ]
     },
     "execution_count": 16,
     "metadata": {},
     "output_type": "execute_result"
    }
   ],
   "source": [
    "# Пример произведения Адамара\n",
    "\n",
    "a = Matrix([[1, 2], [3, 4]])\n",
    "b = Matrix([[4, 3], [2, 1]])\n",
    "a * b"
   ]
  },
  {
   "cell_type": "code",
   "execution_count": 17,
   "id": "c5101fdb",
   "metadata": {},
   "outputs": [
    {
     "data": {
      "text/plain": [
       "[[2. 4.]\n",
       " [6. 8.]]"
      ]
     },
     "execution_count": 17,
     "metadata": {},
     "output_type": "execute_result"
    }
   ],
   "source": [
    "# Пример умножения матрицы на число\n",
    "\n",
    "a = Matrix([[1, 2], [3, 4]])\n",
    "a * 2"
   ]
  },
  {
   "cell_type": "code",
   "execution_count": 18,
   "id": "55fad254",
   "metadata": {},
   "outputs": [
    {
     "data": {
      "text/plain": [
       "[[5. 5.]\n",
       " [5. 5.]]"
      ]
     },
     "execution_count": 18,
     "metadata": {},
     "output_type": "execute_result"
    }
   ],
   "source": [
    "# Пример сложенния матриц\n",
    "\n",
    "a = Matrix([[1, 2], [3, 4]])\n",
    "b = Matrix([[4, 3], [2, 1]])\n",
    "a + b"
   ]
  },
  {
   "cell_type": "code",
   "execution_count": 19,
   "id": "5f6245cb",
   "metadata": {},
   "outputs": [
    {
     "data": {
      "text/plain": [
       "[[-3. -1.]\n",
       " [ 1.  3.]]"
      ]
     },
     "execution_count": 19,
     "metadata": {},
     "output_type": "execute_result"
    }
   ],
   "source": [
    "# Пример вычитания матриц\n",
    "\n",
    "a = Matrix([[1, 2], [3, 4]])\n",
    "b = Matrix([[4, 3], [2, 1]])\n",
    "a - b"
   ]
  },
  {
   "cell_type": "code",
   "execution_count": 22,
   "id": "fb91d24d",
   "metadata": {},
   "outputs": [
    {
     "data": {
      "text/plain": [
       "[[1. 3. 5.]\n",
       " [2. 4. 6.]]"
      ]
     },
     "execution_count": 22,
     "metadata": {},
     "output_type": "execute_result"
    }
   ],
   "source": [
    "# Пример транспонирования матрицы\n",
    "\n",
    "a = Matrix([[1, 2], [3, 4], [5, 6]])\n",
    "a.T"
   ]
  },
  {
   "cell_type": "code",
   "execution_count": 23,
   "id": "ab98d498",
   "metadata": {},
   "outputs": [
    {
     "data": {
      "text/plain": [
       "[1.0, 4.0]"
      ]
     },
     "execution_count": 23,
     "metadata": {},
     "output_type": "execute_result"
    }
   ],
   "source": [
    "# Пример получения главной диагонали\n",
    "\n",
    "a = Matrix([[1, 2], [3, 4]])\n",
    "a.m_diag"
   ]
  },
  {
   "cell_type": "code",
   "execution_count": 24,
   "id": "e3148332",
   "metadata": {},
   "outputs": [
    {
     "data": {
      "text/plain": [
       "5.0"
      ]
     },
     "execution_count": 24,
     "metadata": {},
     "output_type": "execute_result"
    }
   ],
   "source": [
    "# Пример получения следа матрицы\n",
    "\n",
    "a = Matrix([[1, 2], [3, 4]])\n",
    "a.trace"
   ]
  },
  {
   "cell_type": "code",
   "execution_count": 25,
   "id": "627d67d3",
   "metadata": {},
   "outputs": [
    {
     "data": {
      "text/plain": [
       "[[ 4.  3.  8.  6.]\n",
       " [ 2.  1.  4.  2.]\n",
       " [12.  9. 16. 12.]\n",
       " [ 6.  3.  8.  4.]]"
      ]
     },
     "execution_count": 25,
     "metadata": {},
     "output_type": "execute_result"
    }
   ],
   "source": [
    "# Пример произведения Кронекера\n",
    "\n",
    "a = Matrix([[1, 2], [3, 4]])\n",
    "b = Matrix([[4, 3], [2, 1]])\n",
    "a.kron(b)"
   ]
  },
  {
   "cell_type": "code",
   "execution_count": 26,
   "id": "9e45b984",
   "metadata": {},
   "outputs": [
    {
     "data": {
      "text/plain": [
       "[[ 7. 10.]\n",
       " [15. 22.]]"
      ]
     },
     "execution_count": 26,
     "metadata": {},
     "output_type": "execute_result"
    }
   ],
   "source": [
    "# Пример возведения матрицы в степень\n",
    "\n",
    "a = Matrix([[1, 2], [3, 4]])\n",
    "a**2"
   ]
  },
  {
   "cell_type": "code",
   "execution_count": 29,
   "id": "a667a991",
   "metadata": {},
   "outputs": [
    {
     "data": {
      "text/plain": [
       "[[1. 2.]\n",
       " [3. 4.]\n",
       " [5. 6.]]"
      ]
     },
     "execution_count": 29,
     "metadata": {},
     "output_type": "execute_result"
    }
   ],
   "source": [
    "# Пример добавления строки\n",
    "\n",
    "a = Matrix([[1, 2], [3, 4]])\n",
    "a.add_row([5, 6])"
   ]
  },
  {
   "cell_type": "code",
   "execution_count": 30,
   "id": "adf35793",
   "metadata": {},
   "outputs": [
    {
     "data": {
      "text/plain": [
       "[[1. 2. 5.]\n",
       " [3. 4. 6.]]"
      ]
     },
     "execution_count": 30,
     "metadata": {},
     "output_type": "execute_result"
    }
   ],
   "source": [
    "# Пример добавления столбца\n",
    "\n",
    "a = Matrix([[1, 2], [3, 4]])\n",
    "a.add_column([5, 6])"
   ]
  }
 ],
 "metadata": {
  "kernelspec": {
   "display_name": "Python 3 (ipykernel)",
   "language": "python",
   "name": "python3"
  },
  "language_info": {
   "codemirror_mode": {
    "name": "ipython",
    "version": 3
   },
   "file_extension": ".py",
   "mimetype": "text/x-python",
   "name": "python",
   "nbconvert_exporter": "python",
   "pygments_lexer": "ipython3",
   "version": "3.7.12"
  }
 },
 "nbformat": 4,
 "nbformat_minor": 5
}
